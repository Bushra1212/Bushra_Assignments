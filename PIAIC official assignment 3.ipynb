{
 "cells": [
  {
   "cell_type": "markdown",
   "metadata": {},
   "source": [
    "# Think of at least three kinds of your favorite pizza. Store these pizza names in a list, and then use a for loop to print the name of each pizza."
   ]
  },
  {
   "cell_type": "code",
   "execution_count": 14,
   "metadata": {},
   "outputs": [
    {
     "name": "stdout",
     "output_type": "stream",
     "text": [
      "chicken peperoni\n",
      "creamy tikka\n",
      "chicken tikka\n"
     ]
    }
   ],
   "source": [
    "pizza_names = ['chicken peperoni', 'creamy tikka', 'chicken tikka']\n",
    "for pizza in pizza_names:\n",
    "    print(pizza)\n"
   ]
  },
  {
   "cell_type": "markdown",
   "metadata": {},
   "source": [
    "# Start with your last question , Modify your for loop to print a sentence using the name of the pizza instead of printing just the name of the pizza. For each pizza you should have one line of output containing a simple statement like I like pepperoni pizza."
   ]
  },
  {
   "cell_type": "code",
   "execution_count": 18,
   "metadata": {},
   "outputs": [
    {
     "name": "stdout",
     "output_type": "stream",
     "text": [
      "I really love chicken peperoni\n",
      "I really love creamy tikka\n",
      "I really love chicken tikka\n"
     ]
    }
   ],
   "source": [
    "for pizza in pizza_names:\n",
    "    print(f\"I really love {pizza}\")\n"
   ]
  },
  {
   "cell_type": "markdown",
   "metadata": {},
   "source": [
    "# Use a for loop to print the numbers from 1 to 20, inclusive."
   ]
  },
  {
   "cell_type": "code",
   "execution_count": 24,
   "metadata": {},
   "outputs": [
    {
     "name": "stdout",
     "output_type": "stream",
     "text": [
      "1\n",
      "2\n",
      "3\n",
      "4\n",
      "5\n",
      "6\n",
      "7\n",
      "8\n",
      "9\n",
      "10\n",
      "11\n",
      "12\n",
      "13\n",
      "14\n",
      "15\n",
      "16\n",
      "17\n",
      "18\n",
      "19\n",
      "20\n"
     ]
    }
   ],
   "source": [
    "numbers= list(range(1,21))\n",
    "for number in numbers:\n",
    "    print(number)"
   ]
  },
  {
   "cell_type": "markdown",
   "metadata": {},
   "source": [
    "# Use the third argument of the range() function to make a list of the odd numbers from 1 to 20. Use a for loop to print each number."
   ]
  },
  {
   "cell_type": "code",
   "execution_count": 26,
   "metadata": {},
   "outputs": [
    {
     "name": "stdout",
     "output_type": "stream",
     "text": [
      "Odd Numbers from 1 to 20 are: \n",
      "1\n",
      "3\n",
      "5\n",
      "7\n",
      "9\n",
      "11\n",
      "13\n",
      "15\n",
      "17\n",
      "19\n"
     ]
    }
   ],
   "source": [
    "print(\"Odd Numbers from 1 to 20 are: \")\n",
    "for i in range(1,21,2):\n",
    "    print(i)"
   ]
  },
  {
   "cell_type": "markdown",
   "metadata": {},
   "source": [
    "# Make a list of the multiples of 3 from 3 to 30. Use a for loop to print the numbers in your list."
   ]
  },
  {
   "cell_type": "code",
   "execution_count": 33,
   "metadata": {},
   "outputs": [
    {
     "name": "stdout",
     "output_type": "stream",
     "text": [
      "multiples of 3 from 3 to 30: \n",
      "3\n",
      "6\n",
      "9\n",
      "12\n",
      "15\n",
      "18\n",
      "21\n",
      "24\n",
      "27\n",
      "30\n"
     ]
    }
   ],
   "source": [
    "print(\"multiples of 3 from 3 to 30: \")\n",
    "for i in range(3,31,3):\n",
    "    print(i)"
   ]
  },
  {
   "cell_type": "markdown",
   "metadata": {},
   "source": [
    "# A number raised to the third power is called a cube. For example, the cube of 2 is written as 2**3 in Python. Make a list of the first 10 cubes (that is, the cube of each integer from 1 through 10), and use a for loop to print out the value of each cube"
   ]
  },
  {
   "cell_type": "code",
   "execution_count": 34,
   "metadata": {},
   "outputs": [
    {
     "name": "stdout",
     "output_type": "stream",
     "text": [
      "[1, 8, 27, 64, 125, 216, 343, 512, 729, 1000]\n"
     ]
    }
   ],
   "source": [
    "cubes = []\n",
    "for i in range(1,11):\n",
    "    cubes.append(i**3)\n",
    "print(cubes)"
   ]
  },
  {
   "cell_type": "markdown",
   "metadata": {},
   "source": [
    "# Make a python program that conatains your nine favourite dishes in a list called foods.\n",
    "Print the message, The first three items in the list are:.\n",
    "Then use a slice to print the first three items from that program’s list.\n",
    "Print the message, Three items from the middle of the list are:\n",
    "Use a slice to print three items from the middle of the list.\n",
    "Print the message, The last three items in the list are:\n",
    "Use a slice to print the last three items in the list."
   ]
  },
  {
   "cell_type": "code",
   "execution_count": 35,
   "metadata": {},
   "outputs": [
    {
     "name": "stdout",
     "output_type": "stream",
     "text": [
      "The First Three Items In The List Are: \n",
      "['Biryani', 'Burger', 'Pizza']\n"
     ]
    }
   ],
   "source": [
    "foods = ['Biryani','Burger','Pizza','Pasta','fried rice','chowmein','steak','sandwich','chicken manchurian']\n",
    "print(\"The First Three Items In The List Are: \")\n",
    "print(foods[0:3])"
   ]
  },
  {
   "cell_type": "code",
   "execution_count": 36,
   "metadata": {},
   "outputs": [
    {
     "name": "stdout",
     "output_type": "stream",
     "text": [
      "The Middle Three Items In The List Are: \n",
      "['Pasta', 'fried rice', 'chowmein']\n"
     ]
    }
   ],
   "source": [
    "print(\"The Middle Three Items In The List Are: \")\n",
    "print(foods[3:6])"
   ]
  },
  {
   "cell_type": "code",
   "execution_count": 39,
   "metadata": {},
   "outputs": [
    {
     "name": "stdout",
     "output_type": "stream",
     "text": [
      "The Last Three Items In The List Are: \n",
      "['steaks', 'sandwiches', 'chicken manchurian']\n"
     ]
    }
   ],
   "source": [
    "print(\"The Last Three Items In The List Are: \")\n",
    "print(foods[6:])"
   ]
  },
  {
   "cell_type": "markdown",
   "metadata": {},
   "source": [
    "# Start with your program from your last Question8.\n",
    "Make a copy of the list of foods, and call it friend_foods.\n",
    "Then, do the following:\n",
    "Add a new dish to the original list.\n",
    "Add a different dish to the list friend_foodss.\n",
    "Prove that you have two separate lists.\n",
    "Print the message, My favorite pizzas are: and then use a for loop to print the first list.\n",
    "Print the message,\n",
    "My friend’s favorite foods are:, and then use a for loop to print the second list.\n",
    "NOTE: Make sure each new dish is stored in the appropriate list."
   ]
  },
  {
   "cell_type": "code",
   "execution_count": 40,
   "metadata": {},
   "outputs": [
    {
     "name": "stdout",
     "output_type": "stream",
     "text": [
      "['Biryani', 'Burger', 'Pizza', 'Pasta', 'fried rice', 'chowmein', 'steaks', 'sandwiches', 'chicken manchurian']\n"
     ]
    }
   ],
   "source": [
    "friend_foods = foods.copy()\n",
    "print(friend_foods)"
   ]
  },
  {
   "cell_type": "code",
   "execution_count": 41,
   "metadata": {},
   "outputs": [
    {
     "name": "stdout",
     "output_type": "stream",
     "text": [
      "['Biryani', 'Burger', 'Pizza', 'Pasta', 'fried rice', 'chowmein', 'steaks', 'sandwiches', 'chicken manchurian', 'Lasagna']\n"
     ]
    }
   ],
   "source": [
    "foods.append(\"Lasagna\")\n",
    "print(foods)"
   ]
  },
  {
   "cell_type": "code",
   "execution_count": 42,
   "metadata": {},
   "outputs": [
    {
     "name": "stdout",
     "output_type": "stream",
     "text": [
      "['Biryani', 'Burger', 'Pizza', 'Pasta', 'fried rice', 'chowmein', 'steaks', 'sandwiches', 'chicken manchurian', 'Pakora']\n"
     ]
    }
   ],
   "source": [
    "friend_foods.append(\"Pakora\")\n",
    "print(friend_foods)"
   ]
  },
  {
   "cell_type": "code",
   "execution_count": 54,
   "metadata": {},
   "outputs": [
    {
     "name": "stdout",
     "output_type": "stream",
     "text": [
      "My Favourite Foods are: Biryani,\n",
      "My Favourite Foods are: Burger,\n",
      "My Favourite Foods are: Pizza,\n",
      "My Favourite Foods are: Pasta,\n",
      "My Favourite Foods are: fried rice,\n",
      "My Favourite Foods are: chowmein,\n",
      "My Favourite Foods are: steaks,\n",
      "My Favourite Foods are: sandwiches,\n",
      "My Favourite Foods are: chicken manchurian,\n",
      "My Favourite Foods are: Lasagna,\n"
     ]
    }
   ],
   "source": [
    "for i in foods:\n",
    "    print(f\"My Favourite Foods are: {i}\")\n",
    "    "
   ]
  },
  {
   "cell_type": "code",
   "execution_count": 55,
   "metadata": {},
   "outputs": [
    {
     "name": "stdout",
     "output_type": "stream",
     "text": [
      "My Friend's Favourite Foods are: Biryani,\n",
      "My Friend's Favourite Foods are: Burger,\n",
      "My Friend's Favourite Foods are: Pizza,\n",
      "My Friend's Favourite Foods are: Pasta,\n",
      "My Friend's Favourite Foods are: fried rice,\n",
      "My Friend's Favourite Foods are: chowmein,\n",
      "My Friend's Favourite Foods are: steaks,\n",
      "My Friend's Favourite Foods are: sandwiches,\n",
      "My Friend's Favourite Foods are: chicken manchurian,\n",
      "My Friend's Favourite Foods are: Pakora\n"
     ]
    }
   ],
   "source": [
    "for i in friend_foods:\n",
    "    print(f\"My Friend's Favourite Foods are: {i}\")"
   ]
  },
  {
   "cell_type": "markdown",
   "metadata": {},
   "source": [
    "# Take a user input from console line.Store it in a variable called Alien_color.\n",
    "\n",
    "If the alien’s color is red, print a statement that the player just earned 5 points for shooting the alien.\n",
    "\n",
    "If the alien’s color isn’t green, print a statement that the player just earned 10 points.\n",
    "\n",
    "If the alien's color isn't red or green , print a statment :, Alien is no more.....\n"
   ]
  },
  {
   "cell_type": "code",
   "execution_count": 4,
   "metadata": {},
   "outputs": [
    {
     "name": "stdout",
     "output_type": "stream",
     "text": [
      "Enter the Alien Color: red\n",
      "Player just earned 5 points for shooting the alien.\n"
     ]
    }
   ],
   "source": [
    "alien_color = input(\"Enter the Alien Color: \")\n",
    "alien_color = alien_color.lower()\n",
    "if alien_color == \"red\":\n",
    "    print(\"Player just earned 5 points for shooting the alien.\")\n",
    "elif alien_color != \"green\":\n",
    "    print(\"Player just earned 10 points for shooting the alien.\")\n",
    "else:\n",
    "    print(\"Alien is no more\")"
   ]
  },
  {
   "cell_type": "markdown",
   "metadata": {},
   "source": [
    "# Write an if-elif-else chain that determines a person’s stage of life. Set a value for the variable age, and then:\n",
    "\n",
    "• If the person is less than 2 years old, print a message that the person is a baby.\n",
    "\n",
    "• If the person is at least 2 years old but less than 4, print a message that the person is a toddler.\n",
    "\n",
    "• If the person is at least 4 years old but less than 13, print a message that the person is a kid.\n",
    "\n",
    "• If the person is at least 13 years old but less than 20, print a message that the person is a teenager.\n",
    "\n",
    "• If the person is at least 20 years old but less than 65, print a message that the person is an adult.\n",
    "\n",
    "• If the person is age 65 or older, print a message that the person is an elder."
   ]
  },
  {
   "cell_type": "code",
   "execution_count": 5,
   "metadata": {},
   "outputs": [
    {
     "name": "stdout",
     "output_type": "stream",
     "text": [
      "Enter your age: 10\n",
      "Person is a Kid.\n"
     ]
    }
   ],
   "source": [
    "age = int(input(\"Enter your age: \"))\n",
    "if age < 2:\n",
    "    print(\"Person is a Baby\")\n",
    "elif age >= 2 and age < 4:\n",
    "    print(\"Person is a Toddler.\")\n",
    "elif age >= 4 and age < 13:\n",
    "    print(\"Person is a Kid.\")\n",
    "elif age >=13 and age < 20:\n",
    "    print(\"Person is a Teenager.\")\n",
    "elif age >=20 and age < 65:\n",
    "    print(\"Person is an Adult.\")\n",
    "elif age == 65 or age > 65:\n",
    "    print(\"Person is Elder.\")"
   ]
  },
  {
   "cell_type": "markdown",
   "metadata": {},
   "source": [
    "# Do the following to create a program that simulates how websites ensure that everyone has a unique username.\n",
    "\n",
    "• Make a list of five or more usernames called current_users.\n",
    "\n",
    "• Make another list of five usernames called new_users. Make sure one or two of the new usernames are also in the current_users list.\n",
    "\n",
    "• Loop through the new_users list to see if each new username has already been used. If it has, print a message that the person will need to enter a new username. If a username has not been used, print a message saying that the username is available.\n",
    "\n",
    "• Make sure your comparison is case insensitive. If 'John' has been used, 'JOHN' should not be accepted."
   ]
  },
  {
   "cell_type": "code",
   "execution_count": 7,
   "metadata": {},
   "outputs": [
    {
     "name": "stdout",
     "output_type": "stream",
     "text": [
      "Maham Username is avaliable.\n",
      "Noor Username is avaliable.\n",
      "Ahmed username is not avaliable, You have to change your username.\n",
      "Aneeqa username is not avaliable, You have to change your username.\n",
      "moin Username is avaliable.\n"
     ]
    }
   ],
   "source": [
    "current_users = ['Bushra','Shahrukh','Mehak','Aneeqa', 'Ahmed']\n",
    "new_users = ['Maham','Noor','Ahmed','Aneeqa', 'moin']\n",
    "for i in new_users:\n",
    "    if i in current_users:\n",
    "        print(f\"{i} username is not avaliable, You have to change your username.\")\n",
    "    else:\n",
    "        print(f\"{i} Username is avaliable.\")"
   ]
  },
  {
   "cell_type": "markdown",
   "metadata": {},
   "source": [
    "# Use a dictionary to store information about a person you know. Store their first name, last name, age, and the city in which they live. You should have keys such as first_name, last_name, age, and city. Print each piece of information stored in your dictionary"
   ]
  },
  {
   "cell_type": "code",
   "execution_count": 12,
   "metadata": {},
   "outputs": [
    {
     "name": "stdout",
     "output_type": "stream",
     "text": [
      "My Name is Bushra Moin\n",
      "My age is 22\n",
      "I live in Karachi\n"
     ]
    }
   ],
   "source": [
    "personal_dict = {\"first_name\": \"Bushra\",\"last_name\": \"Moin\",\"age\":22,\"city\":\"Karachi\"}\n",
    "print(\"My Name is \"+str(personal_dict[\"first_name\"])+\" \"+str(personal_dict[\"last_name\"]))\n",
    "print(\"My age is \"+str(personal_dict[\"age\"]))\n",
    "print(\"I live in \"+str(personal_dict[\"city\"]))"
   ]
  },
  {
   "cell_type": "markdown",
   "metadata": {},
   "source": [
    "# Starts with your last question 12 , loop through the dictionary’s keys and values. When you’re sure that your loop works, add five more Python terms to your dictionary . When you run your program again, these new words and meanings should automatically be included in the output."
   ]
  },
  {
   "cell_type": "code",
   "execution_count": 13,
   "metadata": {},
   "outputs": [
    {
     "name": "stdout",
     "output_type": "stream",
     "text": [
      "list: List is used to gather values of different data types.\n",
      "loop: for loop used to repeat same things again help to reduce code complexity and time complexity.\n",
      "dictionary: It works on key value pair.\n",
      "key: The first item in a key-value pair in a dictionary.\n",
      "value: An item associated with a key in a dictionary.\n"
     ]
    }
   ],
   "source": [
    "dict1 = {\n",
    "    'list': 'List is used to gather values of different data types.',\n",
    "    'loop': 'for loop used to repeat same things again help to reduce code complexity and time complexity.',\n",
    "    'dictionary': \"It works on key value pair.\",\n",
    "    'key': 'The first item in a key-value pair in a dictionary.',\n",
    "    'value': 'An item associated with a key in a dictionary.', }\n",
    "\n",
    "for keys,values in dict1.items():\n",
    "    print(f\"{keys}: {values}\")"
   ]
  },
  {
   "cell_type": "markdown",
   "metadata": {},
   "source": [
    "# Make a dictionary containing three major rivers and the country each river runs through. One key-value pair might be 'nile': 'egypt'.\n",
    "\n",
    "• Use a loop to print a sentence about each river, such as The Nile runs through Egypt.\n",
    "\n",
    "NOTE: use upper case through keys and values."
   ]
  },
  {
   "cell_type": "code",
   "execution_count": 14,
   "metadata": {},
   "outputs": [
    {
     "name": "stdout",
     "output_type": "stream",
     "text": [
      "The INDUS RIVER runs through PAKISTAN.\n",
      "The NILE runs through EGYPT.\n",
      "The AMAZON RIVER runs through BRAZIL.\n",
      "The YELLOW RIVER runs through CHINA.\n"
     ]
    }
   ],
   "source": [
    "rivers = {'Indus River':'Pakistan','Nile':'Egypt','Amazon River':'Brazil','Yellow River':'China'}\n",
    "for key,value in rivers.items():\n",
    "    print(f\"The {key.upper()} runs through {value.upper()}.\")"
   ]
  },
  {
   "cell_type": "markdown",
   "metadata": {},
   "source": [
    "# Make several dictionaries, where the name of each dictionary is the name of a pet. In each dictionary, include the kind of animal and the owner’s name. Store these dictionaries in a list called pets. Next, loop through your list and as you do print everything you know about each pet."
   ]
  },
  {
   "cell_type": "code",
   "execution_count": 15,
   "metadata": {},
   "outputs": [
    {
     "name": "stdout",
     "output_type": "stream",
     "text": [
      "animal_type = Puppy\n",
      "owner_name = Bushra\n",
      "\n",
      "\n",
      "animal_type = Rabbit\n",
      "owner_name = Ahmed\n",
      "\n",
      "\n",
      "animal_type = Kitten\n",
      "owner_name = Aneeqa\n",
      "\n",
      "\n"
     ]
    }
   ],
   "source": [
    "pets = []\n",
    "pet = {'animal_type': 'Puppy', 'owner_name':'Bushra'}\n",
    "pets.append(pet)\n",
    "pet = {'animal_type':'Rabbit','owner_name':'Ahmed'}\n",
    "pets.append(pet)\n",
    "pet = {'animal_type':'Kitten','owner_name':'Aneeqa'}\n",
    "pets.append(pet)\n",
    "for i in pets:\n",
    "    for key,values in i.items():\n",
    "        print(f\"{key} = {values}\")\n",
    "    print(\"\\n\")"
   ]
  },
  {
   "cell_type": "code",
   "execution_count": null,
   "metadata": {},
   "outputs": [],
   "source": []
  }
 ],
 "metadata": {
  "kernelspec": {
   "display_name": "Python 3",
   "language": "python",
   "name": "python3"
  },
  "language_info": {
   "codemirror_mode": {
    "name": "ipython",
    "version": 3
   },
   "file_extension": ".py",
   "mimetype": "text/x-python",
   "name": "python",
   "nbconvert_exporter": "python",
   "pygments_lexer": "ipython3",
   "version": "3.7.3"
  }
 },
 "nbformat": 4,
 "nbformat_minor": 2
}
